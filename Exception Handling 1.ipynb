{
 "cells": [
  {
   "cell_type": "code",
   "execution_count": 1,
   "id": "eed71752-3698-4527-90f1-2c9d56c1b01a",
   "metadata": {},
   "outputs": [
    {
     "ename": "SyntaxError",
     "evalue": "expected ':' (1511444809.py, line 9)",
     "output_type": "error",
     "traceback": [
      "\u001b[0;36m  Cell \u001b[0;32mIn[1], line 9\u001b[0;36m\u001b[0m\n\u001b[0;31m    if a>8\u001b[0m\n\u001b[0m          ^\u001b[0m\n\u001b[0;31mSyntaxError\u001b[0m\u001b[0;31m:\u001b[0m expected ':'\n"
     ]
    }
   ],
   "source": [
    "#Question 1\n",
    "#Ans: - \n",
    "#Exception: - It occures when our code will face an exception error. The error can be Division by zero (4/0), Type Error, Value Error, \n",
    "#Import error,Index error, Attribute error etc.\n",
    "#Difference between Exception and Syntax error:\n",
    "#Syntax error: \n",
    "#It occures when our code syntax will not be proper.\n",
    "a= 9\n",
    "if a>8\n",
    " print(a)"
   ]
  },
  {
   "cell_type": "code",
   "execution_count": 2,
   "id": "afa63338-6273-4de8-8371-57c62c339045",
   "metadata": {},
   "outputs": [
    {
     "name": "stdout",
     "output_type": "stream",
     "text": [
      "division by zero\n"
     ]
    }
   ],
   "source": [
    "#Exception: It occures when our code syntax is correct but some exception will occur.\n",
    "try:\n",
    "    a = 4/0\n",
    "except Exception as e:\n",
    "    print(e)"
   ]
  },
  {
   "cell_type": "code",
   "execution_count": 3,
   "id": "fd1516cc-7dfe-416e-9923-fdd75df06e4d",
   "metadata": {},
   "outputs": [],
   "source": [
    "#Here our code will execute but at this time our exception part will run."
   ]
  },
  {
   "cell_type": "code",
   "execution_count": 4,
   "id": "38269f26-bb85-4e94-88ea-92f711ed6b58",
   "metadata": {},
   "outputs": [],
   "source": [
    "#Question 2\n",
    "#Ans \n",
    "#If we do not handle exceptions then our code will stop if an error occurs."
   ]
  },
  {
   "cell_type": "code",
   "execution_count": 5,
   "id": "ab1a99ac-a8bb-4e10-a377-9c872ec9905e",
   "metadata": {},
   "outputs": [
    {
     "ename": "ZeroDivisionError",
     "evalue": "division by zero",
     "output_type": "error",
     "traceback": [
      "\u001b[0;31m---------------------------------------------------------------------------\u001b[0m",
      "\u001b[0;31mZeroDivisionError\u001b[0m                         Traceback (most recent call last)",
      "Cell \u001b[0;32mIn[5], line 1\u001b[0m\n\u001b[0;32m----> 1\u001b[0m a \u001b[38;5;241m=\u001b[39m \u001b[38;5;241;43m4\u001b[39;49m\u001b[38;5;241;43m/\u001b[39;49m\u001b[38;5;241;43m0\u001b[39;49m\n\u001b[1;32m      2\u001b[0m \u001b[38;5;28mprint\u001b[39m(\u001b[38;5;124m\"\u001b[39m\u001b[38;5;124mHello\u001b[39m\u001b[38;5;124m\"\u001b[39m)\n",
      "\u001b[0;31mZeroDivisionError\u001b[0m: division by zero"
     ]
    }
   ],
   "source": [
    "a = 4/0\n",
    "print(\"Hello\")"
   ]
  },
  {
   "cell_type": "code",
   "execution_count": 6,
   "id": "bcaf72be-fb8c-4fb5-9961-9f7150125b89",
   "metadata": {},
   "outputs": [
    {
     "name": "stdout",
     "output_type": "stream",
     "text": [
      "Hello\n"
     ]
    }
   ],
   "source": [
    "try:\n",
    "    a = 4/0\n",
    "except :\n",
    "    print(\"Hello\")"
   ]
  },
  {
   "cell_type": "code",
   "execution_count": 7,
   "id": "75aa4087-0068-4dd0-a53f-2c1697c3bafc",
   "metadata": {},
   "outputs": [],
   "source": [
    "#Here you can see the difference if we do not handle exceptions then our code will stop immediately and if we handle exception then or \n",
    "#code will handle exception and run the rest part of code."
   ]
  },
  {
   "cell_type": "code",
   "execution_count": 8,
   "id": "aea03651-c0d8-47af-96e5-41a5f6b620f7",
   "metadata": {},
   "outputs": [
    {
     "name": "stdout",
     "output_type": "stream",
     "text": [
      "list index out of range\n"
     ]
    }
   ],
   "source": [
    "#Question 3:\n",
    "#Ans: - \n",
    "#In python try except method will be used.\n",
    "try:\n",
    "    lst = [1,2]\n",
    "    print(lst[2])\n",
    "except Exception as e:\n",
    "    print(e)"
   ]
  },
  {
   "cell_type": "code",
   "execution_count": 9,
   "id": "9d401a26-f37e-4e3d-bf79-868ca95f3efa",
   "metadata": {},
   "outputs": [
    {
     "name": "stdout",
     "output_type": "stream",
     "text": [
      "I am in try block\n",
      "I am in else block\n"
     ]
    }
   ],
   "source": [
    "#Question 4:\n",
    "#a. try and else: If try block runs successfully then else block will run and if try block face an error then else block will not run.\n",
    "try:\n",
    "    print(\"I am in try block\")\n",
    "except:\n",
    "    print(\"I am in except block\")\n",
    "else:\n",
    "    print(\"I am in else block\")"
   ]
  },
  {
   "cell_type": "code",
   "execution_count": 10,
   "id": "47684658-b54c-4657-acc2-22bc73b7b9e5",
   "metadata": {},
   "outputs": [],
   "source": [
    "#b. finally:- It will run if try block will run or not as well as same for except block if except block will run or not."
   ]
  },
  {
   "cell_type": "code",
   "execution_count": 11,
   "id": "6dd2f3ef-ccd5-487b-be8b-403d79fca9db",
   "metadata": {},
   "outputs": [
    {
     "name": "stdout",
     "output_type": "stream",
     "text": [
      "I am in except block\n",
      "I am in finally block.\n"
     ]
    }
   ],
   "source": [
    "try:\n",
    "    a/0\n",
    "    print(\"I am in try block\")\n",
    "except:\n",
    "    print(\"I am in except block\")\n",
    "finally:\n",
    "    print(\"I am in finally block.\")"
   ]
  },
  {
   "cell_type": "code",
   "execution_count": 12,
   "id": "42f86f94-b306-45aa-a1e6-bcf601ecd65d",
   "metadata": {},
   "outputs": [],
   "source": [
    "# c raise:- It is used to raise an exception ."
   ]
  },
  {
   "cell_type": "code",
   "execution_count": 13,
   "id": "0780d867-ef1a-43f1-b146-c334008e00bf",
   "metadata": {},
   "outputs": [
    {
     "ename": "Exception",
     "evalue": "Age can not be negative.",
     "output_type": "error",
     "traceback": [
      "\u001b[0;31m---------------------------------------------------------------------------\u001b[0m",
      "\u001b[0;31mException\u001b[0m                                 Traceback (most recent call last)",
      "Cell \u001b[0;32mIn[13], line 3\u001b[0m\n\u001b[1;32m      1\u001b[0m age \u001b[38;5;241m=\u001b[39m \u001b[38;5;241m-\u001b[39m\u001b[38;5;241m1\u001b[39m\n\u001b[1;32m      2\u001b[0m \u001b[38;5;28;01mif\u001b[39;00m age\u001b[38;5;241m<\u001b[39m\u001b[38;5;241m0\u001b[39m:\n\u001b[0;32m----> 3\u001b[0m     \u001b[38;5;28;01mraise\u001b[39;00m \u001b[38;5;167;01mException\u001b[39;00m(\u001b[38;5;124m\"\u001b[39m\u001b[38;5;124mAge can not be negative.\u001b[39m\u001b[38;5;124m\"\u001b[39m)\n",
      "\u001b[0;31mException\u001b[0m: Age can not be negative."
     ]
    }
   ],
   "source": [
    "age = -1\n",
    "if age<0:\n",
    "    raise Exception(\"Age can not be negative.\")"
   ]
  },
  {
   "cell_type": "code",
   "execution_count": 14,
   "id": "225f976a-5aab-46d5-a53a-da072e2439b4",
   "metadata": {},
   "outputs": [],
   "source": [
    "#Here you can see the Exception."
   ]
  },
  {
   "cell_type": "code",
   "execution_count": 16,
   "id": "2b26ee0b-7aba-40b8-b0ca-4c7ba89fa327",
   "metadata": {},
   "outputs": [
    {
     "name": "stdin",
     "output_type": "stream",
     "text": [
      "Enter your height:  -178.6\n"
     ]
    },
    {
     "name": "stdout",
     "output_type": "stream",
     "text": [
      "Height can not be negative\n"
     ]
    }
   ],
   "source": [
    "#question 5\n",
    "#Ans\n",
    "#Custom Exception:- If we want to show some exception that is not defined in inbuilt exception then we whave to create or custom exception. \n",
    "#It is helpful in showing \n",
    "ception messages to the user if he inputs something wrong.\n",
    "#Example:\n",
    "\n",
    "class Validate(Exception):\n",
    "    \n",
    "    def __init__(self,msg):\n",
    "        self.msg = msg\n",
    "        \n",
    "def valid_height(value):\n",
    "    if value<0:\n",
    "        raise Validate(\"Height can not be negative\")\n",
    "    else:\n",
    "        print(\"Height is valid.\")\n",
    "\n",
    "try:\n",
    "    h = float(input(\"Enter your height: \"))\n",
    "    valid_height(h)\n",
    "except Validate as e:\n",
    "              print(e)\n",
    "            "
   ]
  },
  {
   "cell_type": "code",
   "execution_count": 17,
   "id": "53a5260f-fa1d-498a-bb6b-f77302051702",
   "metadata": {},
   "outputs": [
    {
     "name": "stdin",
     "output_type": "stream",
     "text": [
      "Enter you number:  90\n"
     ]
    },
    {
     "name": "stdout",
     "output_type": "stream",
     "text": [
      "Invalid number 90\n"
     ]
    }
   ],
   "source": [
    "#Question 6\n",
    "#Ans\n",
    "\n",
    "class ValidateNumber(Exception):\n",
    "    \n",
    "    def __init__(self,msg):\n",
    "        self.msg = msg\n",
    "        \n",
    "def validnumber(num):\n",
    "    if len(num) !=10:\n",
    "        raise ValidateNumber(\"Invalid number \"+(num))\n",
    "    else:\n",
    "        print(\"Valid number \",num)\n",
    "        \n",
    "try:\n",
    "    num =input(\"Enter you number: \")\n",
    "    validnumber(num)\n",
    "except ValidateNumber as e:\n",
    "    print(e)"
   ]
  },
  {
   "cell_type": "code",
   "execution_count": null,
   "id": "a1909a46-46c8-4365-9694-d7ef4b9eca0f",
   "metadata": {},
   "outputs": [],
   "source": []
  }
 ],
 "metadata": {
  "kernelspec": {
   "display_name": "Python 3 (ipykernel)",
   "language": "python",
   "name": "python3"
  },
  "language_info": {
   "codemirror_mode": {
    "name": "ipython",
    "version": 3
   },
   "file_extension": ".py",
   "mimetype": "text/x-python",
   "name": "python",
   "nbconvert_exporter": "python",
   "pygments_lexer": "ipython3",
   "version": "3.10.8"
  }
 },
 "nbformat": 4,
 "nbformat_minor": 5
}
